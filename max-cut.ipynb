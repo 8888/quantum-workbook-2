{
 "cells": [
  {
   "cell_type": "markdown",
   "metadata": {},
   "source": [
    "# Quantum Approximate Optimization Algorithm (QAOA)\n",
    "## Maximum cut problem\n",
    "![maxcut](https://learning-api.quantum.ibm.com/assets/0de75f52-4873-4b5a-a0e9-a351dc48c910?format=auto&quality=80)\n",
    "The maximum cut problem is a well-known combinatorial optimization problem. Given a graph, the goal is to partition the vertices into two sets such that the number of edges between the two sets is maximized. This problem is NP-hard, and it has applications in clustering, network science, and statistical physics.\n",
    "\n",
    "https://learning.quantum.ibm.com/tutorial/quantum-approximate-optimization-algorithm"
   ]
  },
  {
   "cell_type": "code",
   "execution_count": null,
   "metadata": {
    "vscode": {
     "languageId": "plaintext"
    }
   },
   "outputs": [],
   "source": []
  }
 ],
 "metadata": {
  "language_info": {
   "name": "python"
  }
 },
 "nbformat": 4,
 "nbformat_minor": 2
}
