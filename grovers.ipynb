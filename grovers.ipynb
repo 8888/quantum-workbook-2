{
 "cells": [
  {
   "cell_type": "markdown",
   "metadata": {},
   "source": [
    "# Classical Search: Sequential guess and check\n",
    "\n",
    "When searching through an unstructured database of n items using classical computing, the best we can do is check each item sequentially until we find our target. Since the target could be anywhere in the database with equal probability, on average we'll need to check n/2 items before finding it. This is because sometimes we'll get lucky and find it early, and other times we'll need to search almost the entire database.\n",
    "\n",
    "Our simulation below confirms this -- with n=1000, we get an average of around 500 steps per search, which is n/2 as expected.\n",
    "\n"
   ]
  },
  {
   "cell_type": "code",
   "execution_count": 1,
   "metadata": {},
   "outputs": [
    {
     "name": "stdout",
     "output_type": "stream",
     "text": [
      "Games: 10000, Range: 1000\n",
      "Avg steps per game: 504\n"
     ]
    }
   ],
   "source": [
    "import random\n",
    "import statistics\n",
    "\n",
    "def new_game(field_size):\n",
    "    key_value = random.randint(0, field_size-1)\n",
    "    return {\n",
    "        \"n\": field_size,\n",
    "        \"run\": lambda x: x == key_value\n",
    "    }\n",
    "\n",
    "def classical_search(field_size):\n",
    "    game = new_game(field_size)\n",
    "    found = False\n",
    "    guess = 0\n",
    "    while not found:\n",
    "        if (game[\"run\"](guess)):\n",
    "            found = True\n",
    "        else:\n",
    "            guess += 1\n",
    "    return guess + 1 # number of guesses made, not key found\n",
    "\n",
    "def get_classical_average():\n",
    "    games = 10000\n",
    "    field_size = 1000\n",
    "    results = [classical_search(field_size) for _ in range(games)]\n",
    "    steps = statistics.mean(results)\n",
    "\n",
    "    print(f\"Games: {games}, Range: {field_size}\")\n",
    "    print(f\"Avg steps per game: {steps:.0f}\")\n",
    "\n",
    "get_classical_average()\n"
   ]
  },
  {
   "cell_type": "markdown",
   "metadata": {},
   "source": [
    "# Quantum search: Grover's algorithm\n"
   ]
  }
 ],
 "metadata": {
  "kernelspec": {
   "display_name": "env",
   "language": "python",
   "name": "python3"
  },
  "language_info": {
   "codemirror_mode": {
    "name": "ipython",
    "version": 3
   },
   "file_extension": ".py",
   "mimetype": "text/x-python",
   "name": "python",
   "nbconvert_exporter": "python",
   "pygments_lexer": "ipython3",
   "version": "3.12.8"
  }
 },
 "nbformat": 4,
 "nbformat_minor": 2
}
