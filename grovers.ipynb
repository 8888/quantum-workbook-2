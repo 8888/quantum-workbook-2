{
 "cells": [
  {
   "cell_type": "code",
   "execution_count": 82,
   "metadata": {},
   "outputs": [],
   "source": [
    "import random\n",
    "\n",
    "n = 1000\n",
    "key_value = random.randint(0, n-1)\n",
    "\n",
    "def closed_box(x):\n",
    "    return x == key_value\n"
   ]
  },
  {
   "cell_type": "code",
   "execution_count": 83,
   "metadata": {},
   "outputs": [
    {
     "name": "stdout",
     "output_type": "stream",
     "text": [
      "\n",
      "Completed 10000 searches\n",
      "Average steps per search: 501.6\n"
     ]
    }
   ],
   "source": [
    "total_steps = 0\n",
    "num_searches = 10000\n",
    "\n",
    "for _ in range(num_searches):\n",
    "    key_value = random.randint(0, n-1)  # Generate new random key each time\n",
    "    steps = 0\n",
    "    found = False\n",
    "    guess = 0\n",
    "\n",
    "    while not found:\n",
    "        if closed_box(guess):\n",
    "            found = True\n",
    "            steps = guess + 1\n",
    "            # print(f\"Found key_value = {guess} in {steps} guesses\")\n",
    "        guess += 1\n",
    "\n",
    "    total_steps += steps\n",
    "\n",
    "print(f\"\\nCompleted {num_searches} searches\")\n",
    "print(f\"Average steps per search: {total_steps/num_searches:.1f}\")\n"
   ]
  },
  {
   "cell_type": "markdown",
   "metadata": {},
   "source": [
    "# Classical Search: Average Steps\n",
    "\n",
    "When searching through an unstructured database of n items using classical computing, the best we can do is check each item sequentially until we find our target. Since the target could be anywhere in the database with equal probability, on average we'll need to check n/2 items before finding it. This is because sometimes we'll get lucky and find it early, and other times we'll need to search almost the entire database.\n",
    "\n",
    "Our simulation above confirms this - with n=1000, we get an average of around 500 steps per search, which is exactly n/2 as expected.\n",
    "\n"
   ]
  }
 ],
 "metadata": {
  "kernelspec": {
   "display_name": "env",
   "language": "python",
   "name": "python3"
  },
  "language_info": {
   "codemirror_mode": {
    "name": "ipython",
    "version": 3
   },
   "file_extension": ".py",
   "mimetype": "text/x-python",
   "name": "python",
   "nbconvert_exporter": "python",
   "pygments_lexer": "ipython3",
   "version": "3.12.8"
  }
 },
 "nbformat": 4,
 "nbformat_minor": 2
}
