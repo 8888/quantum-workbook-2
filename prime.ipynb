{
 "cells": [
  {
   "cell_type": "markdown",
   "metadata": {},
   "source": [
    "# Brute force approach for finding factors of a number"
   ]
  },
  {
   "cell_type": "code",
   "execution_count": 113,
   "metadata": {},
   "outputs": [
    {
     "name": "stdout",
     "output_type": "stream",
     "text": [
      "Factors of 7919: [1, 7919]\n",
      "7919 is prime: True\n",
      "Factors of 791: [1, 7, 113, 791]\n",
      "791 is prime: False\n",
      "Factors of 79191919: [1, 79191919]\n",
      "79191919 is prime: True\n"
     ]
    }
   ],
   "source": [
    "def find_factors(n):\n",
    "  return [i for i in range(1, n + 1) if n % i == 0]\n",
    "\n",
    "def is_prime(factors, n):\n",
    "  return len(factors) == 2 and factors[0] == 1 and factors[1] == n\n",
    "\n",
    "def run(number):\n",
    "  factors = find_factors(number)\n",
    "  prime = is_prime(factors, number)\n",
    "  print(f\"Factors of {number}: {factors}\")\n",
    "  print(f\"{number} is prime: {prime}\")\n",
    "\n",
    "run(7919)\n",
    "run(791)\n",
    "run(79191919)\n",
    "# run(791919191) # adding another digit increases run time from 2.5s to 25s"
   ]
  },
  {
   "cell_type": "markdown",
   "metadata": {},
   "source": [
    "This will slow down drastically before we even get to large numbers"
   ]
  },
  {
   "cell_type": "code",
   "execution_count": 114,
   "metadata": {},
   "outputs": [
    {
     "name": "stdout",
     "output_type": "stream",
     "text": [
      "Factors of 9: [1, 3, 9]\n",
      "9 is prime: False\n",
      "-- 2.9802322387695312e-05 seconds for 1 digits --\n",
      "Factors of 99: [1, 3, 9, 11, 33, 99]\n",
      "99 is prime: False\n",
      "-- 1.0251998901367188e-05 seconds for 2 digits --\n",
      "Factors of 999: [1, 3, 9, 27, 37, 111, 333, 999]\n",
      "999 is prime: False\n",
      "-- 3.409385681152344e-05 seconds for 3 digits --\n",
      "Factors of 9999: [1, 3, 9, 11, 33, 99, 101, 303, 909, 1111, 3333, 9999]\n",
      "9999 is prime: False\n",
      "-- 0.0003368854522705078 seconds for 4 digits --\n",
      "Factors of 99999: [1, 3, 9, 41, 123, 271, 369, 813, 2439, 11111, 33333, 99999]\n",
      "99999 is prime: False\n",
      "-- 0.0037288665771484375 seconds for 5 digits --\n",
      "Factors of 999999: [1, 3, 7, 9, 11, 13, 21, 27, 33, 37, 39, 63, 77, 91, 99, 111, 117, 143, 189, 231, 259, 273, 297, 333, 351, 407, 429, 481, 693, 777, 819, 999, 1001, 1221, 1287, 1443, 2079, 2331, 2457, 2849, 3003, 3367, 3663, 3861, 4329, 5291, 6993, 8547, 9009, 10101, 10989, 12987, 15873, 25641, 27027, 30303, 37037, 47619, 76923, 90909, 111111, 142857, 333333, 999999]\n",
      "999999 is prime: False\n",
      "-- 0.03319811820983887 seconds for 6 digits --\n",
      "Factors of 9999999: [1, 3, 9, 239, 717, 2151, 4649, 13947, 41841, 1111111, 3333333, 9999999]\n",
      "9999999 is prime: False\n",
      "-- 0.31629419326782227 seconds for 7 digits --\n",
      "Factors of 99999999: [1, 3, 9, 11, 33, 73, 99, 101, 137, 219, 303, 411, 657, 803, 909, 1111, 1233, 1507, 2409, 3333, 4521, 7227, 7373, 9999, 10001, 13563, 13837, 22119, 30003, 41511, 66357, 81103, 90009, 110011, 124533, 152207, 243309, 330033, 456621, 729927, 990099, 1010101, 1369863, 3030303, 9090909, 11111111, 33333333, 99999999]\n",
      "99999999 is prime: False\n",
      "-- 3.1496310234069824 seconds for 8 digits --\n",
      "Factors of 999999999: [1, 3, 9, 27, 37, 81, 111, 333, 999, 2997, 333667, 1001001, 3003003, 9009009, 12345679, 27027027, 37037037, 111111111, 333333333, 999999999]\n",
      "999999999 is prime: False\n",
      "-- 32.396479845047 seconds for 9 digits --\n"
     ]
    }
   ],
   "source": [
    "import time\n",
    "\n",
    "for i in range(1, 10):\n",
    "  start = time.time()\n",
    "  run(int('9' * i))\n",
    "  print(f\"-- {time.time() - start} seconds for {i} digits --\")"
   ]
  },
  {
   "cell_type": "markdown",
   "metadata": {},
   "source": [
    "# gmpy2 to find prime factors\n",
    "We'll use a library with more efficient algorithm to find factors of larger numbers. There are other algorithms, such as General Number Field Sieve (GNFS) that are significantly more performant but also much more complex."
   ]
  },
  {
   "cell_type": "code",
   "execution_count": 115,
   "metadata": {},
   "outputs": [
    {
     "name": "stdout",
     "output_type": "stream",
     "text": [
      "All prime factors of 876543210987654321 are: [3, 1181, 27489046037183]\n",
      "-- 0.1816999912261963 seconds for 18 digits --\n"
     ]
    }
   ],
   "source": [
    "import gmpy2\n",
    "import sympy\n",
    "\n",
    "def find_all_factors(N):\n",
    "    \"\"\"\n",
    "    Use gmpy2's isqrt and trial division to find all factors of N.\n",
    "    \"\"\"\n",
    "    factors = set()\n",
    "    try:\n",
    "        # Try small prime trial division using sympy\n",
    "        for prime in sympy.primerange(2, 10000):\n",
    "            while N % prime == 0:\n",
    "                factors.add(prime)\n",
    "                N //= prime\n",
    "\n",
    "        # Use isqrt for attempting factorization\n",
    "        sqrt_n = gmpy2.isqrt(N)\n",
    "        for x in range(2, sqrt_n + 1):\n",
    "            while N % x == 0:\n",
    "                factors.add(x)\n",
    "                N //= x\n",
    "\n",
    "        # If N is still greater than 1, it must be a prime factor\n",
    "        if N > 1:\n",
    "            factors.add(N)\n",
    "    except Exception as e:\n",
    "        print(f\"An error occurred while running gmpy2: {e}\")\n",
    "\n",
    "    return sorted(factors)\n",
    "\n",
    "# efficient up to 10^18\n",
    "N = 876543210987654321\n",
    "start = time.time()\n",
    "factors = find_all_factors(N)\n",
    "end = time.time()\n",
    "if factors:\n",
    "    print(f\"All prime factors of {N} are: {factors}\")\n",
    "else:\n",
    "    print(f\"Failed to find any factors of {N}.\")\n",
    "print(f\"-- {end - start} seconds for {len(str(N))} digits --\")"
   ]
  },
  {
   "cell_type": "markdown",
   "metadata": {},
   "source": [
    "While this is able to complete 18 digit numbers quite quickly, it will likely time out with 19 digit numbers."
   ]
  },
  {
   "cell_type": "markdown",
   "metadata": {},
   "source": [
    "# Pollards Rho to find prime factors\n",
    "This will give us an increase to be able to factor sightly larger numbers"
   ]
  },
  {
   "cell_type": "code",
   "execution_count": 116,
   "metadata": {},
   "outputs": [
    {
     "name": "stdout",
     "output_type": "stream",
     "text": [
      "All factors of 20496382304121724099 are: [11, 37, mpz(157627), mpz(319486266191)]\n",
      "-- 0.03428196907043457 seconds for 20 digits --\n"
     ]
    }
   ],
   "source": [
    "import gmpy2\n",
    "import sympy\n",
    "import random\n",
    "\n",
    "def pollards_rho(N, seed=2):\n",
    "    \"\"\"\n",
    "    Pollard's Rho algorithm for integer factorization.\n",
    "    \"\"\"\n",
    "    if N % 2 == 0:\n",
    "        return 2\n",
    "    x = seed\n",
    "    y = seed\n",
    "    d = 1\n",
    "    f = lambda z: (z * z + 1) % N\n",
    "    while d == 1:\n",
    "        x = f(x)\n",
    "        y = f(f(y))\n",
    "        d = gmpy2.gcd(abs(x - y), N)\n",
    "    if d == N:\n",
    "        return None\n",
    "    return d\n",
    "\n",
    "def find_all_factors(N):\n",
    "    \"\"\"\n",
    "    Use gmpy2's isqrt, trial division, and Pollard's Rho to find all factors of N.\n",
    "    \"\"\"\n",
    "    factors = set()\n",
    "    try:\n",
    "        # Try small prime trial division using sympy\n",
    "        for prime in sympy.primerange(2, 10000):\n",
    "            while N % prime == 0:\n",
    "                factors.add(prime)\n",
    "                N //= prime\n",
    "\n",
    "        # Use Pollard's Rho for larger factors\n",
    "        while N > 1 and not gmpy2.is_prime(N):\n",
    "            factor = pollards_rho(N)\n",
    "            if factor is None:\n",
    "                break\n",
    "            while N % factor == 0:\n",
    "                factors.add(factor)\n",
    "                N //= factor\n",
    "\n",
    "        # Use isqrt for attempting factorization\n",
    "        sqrt_n = gmpy2.isqrt(N)\n",
    "        for x in range(2, sqrt_n + 1):\n",
    "            while N % x == 0:\n",
    "                factors.add(x)\n",
    "                N //= x\n",
    "\n",
    "        # If N is still greater than 1, it must be a prime factor\n",
    "        if N > 1:\n",
    "            factors.add(N)\n",
    "    except Exception as e:\n",
    "        print(f\"An error occurred while running gmpy2: {e}\")\n",
    "\n",
    "    return sorted(factors)\n",
    "\n",
    "N = 20496382304121724099\n",
    "start = time.time()\n",
    "factors = find_all_factors(N)\n",
    "end = time.time()\n",
    "if factors:\n",
    "    print(f\"All factors of {N} are: {factors}\")\n",
    "else:\n",
    "    print(f\"Failed to find any factors of {N}.\")\n",
    "print(f\"-- {end - start} seconds for {len(str(N))} digits --\")"
   ]
  }
 ],
 "metadata": {
  "kernelspec": {
   "display_name": "env",
   "language": "python",
   "name": "python3"
  },
  "language_info": {
   "codemirror_mode": {
    "name": "ipython",
    "version": 3
   },
   "file_extension": ".py",
   "mimetype": "text/x-python",
   "name": "python",
   "nbconvert_exporter": "python",
   "pygments_lexer": "ipython3",
   "version": "3.12.5"
  }
 },
 "nbformat": 4,
 "nbformat_minor": 2
}
